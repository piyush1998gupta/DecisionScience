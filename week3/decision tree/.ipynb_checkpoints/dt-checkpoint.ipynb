{
 "cells": [
  {
   "cell_type": "code",
   "execution_count": 1,
   "metadata": {},
   "outputs": [],
   "source": [
    "import pandas as pd\n",
    "import numpy as np\n",
    "import matplotlib.pyplot as plt\n",
    "import seaborn as sns\n",
    "from sklearn import metrics \n"
   ]
  },
  {
   "cell_type": "code",
   "execution_count": 2,
   "metadata": {},
   "outputs": [
    {
     "data": {
      "text/html": [
       "<div>\n",
       "<style scoped>\n",
       "    .dataframe tbody tr th:only-of-type {\n",
       "        vertical-align: middle;\n",
       "    }\n",
       "\n",
       "    .dataframe tbody tr th {\n",
       "        vertical-align: top;\n",
       "    }\n",
       "\n",
       "    .dataframe thead th {\n",
       "        text-align: right;\n",
       "    }\n",
       "</style>\n",
       "<table border=\"1\" class=\"dataframe\">\n",
       "  <thead>\n",
       "    <tr style=\"text-align: right;\">\n",
       "      <th></th>\n",
       "      <th>buying price</th>\n",
       "      <th>maintenance cost</th>\n",
       "      <th>number of doors</th>\n",
       "      <th>number of persons</th>\n",
       "      <th>lug_boot</th>\n",
       "      <th>safety</th>\n",
       "      <th>decision</th>\n",
       "    </tr>\n",
       "  </thead>\n",
       "  <tbody>\n",
       "    <tr>\n",
       "      <th>0</th>\n",
       "      <td>vhigh</td>\n",
       "      <td>vhigh</td>\n",
       "      <td>2</td>\n",
       "      <td>2</td>\n",
       "      <td>small</td>\n",
       "      <td>low</td>\n",
       "      <td>unacc</td>\n",
       "    </tr>\n",
       "    <tr>\n",
       "      <th>1</th>\n",
       "      <td>vhigh</td>\n",
       "      <td>vhigh</td>\n",
       "      <td>2</td>\n",
       "      <td>2</td>\n",
       "      <td>small</td>\n",
       "      <td>med</td>\n",
       "      <td>unacc</td>\n",
       "    </tr>\n",
       "    <tr>\n",
       "      <th>2</th>\n",
       "      <td>vhigh</td>\n",
       "      <td>vhigh</td>\n",
       "      <td>2</td>\n",
       "      <td>2</td>\n",
       "      <td>small</td>\n",
       "      <td>high</td>\n",
       "      <td>unacc</td>\n",
       "    </tr>\n",
       "    <tr>\n",
       "      <th>3</th>\n",
       "      <td>vhigh</td>\n",
       "      <td>vhigh</td>\n",
       "      <td>2</td>\n",
       "      <td>2</td>\n",
       "      <td>med</td>\n",
       "      <td>low</td>\n",
       "      <td>unacc</td>\n",
       "    </tr>\n",
       "    <tr>\n",
       "      <th>4</th>\n",
       "      <td>vhigh</td>\n",
       "      <td>vhigh</td>\n",
       "      <td>2</td>\n",
       "      <td>2</td>\n",
       "      <td>med</td>\n",
       "      <td>med</td>\n",
       "      <td>unacc</td>\n",
       "    </tr>\n",
       "  </tbody>\n",
       "</table>\n",
       "</div>"
      ],
      "text/plain": [
       "  buying price maintenance cost number of doors number of persons lug_boot  \\\n",
       "0        vhigh            vhigh               2                 2    small   \n",
       "1        vhigh            vhigh               2                 2    small   \n",
       "2        vhigh            vhigh               2                 2    small   \n",
       "3        vhigh            vhigh               2                 2      med   \n",
       "4        vhigh            vhigh               2                 2      med   \n",
       "\n",
       "  safety decision  \n",
       "0    low    unacc  \n",
       "1    med    unacc  \n",
       "2   high    unacc  \n",
       "3    low    unacc  \n",
       "4    med    unacc  "
      ]
     },
     "execution_count": 2,
     "metadata": {},
     "output_type": "execute_result"
    }
   ],
   "source": [
    "car_df = pd.read_csv(\"car_evaluation.csv\",names=[\"buying price\", \"maintenance cost\", \"number of doors\", \"number of persons\",\"lug_boot\"\n",
    "                                                ,\"safety\",\"decision\"])\n",
    "\n",
    "car_df.head()"
   ]
  },
  {
   "cell_type": "code",
   "execution_count": null,
   "metadata": {},
   "outputs": [],
   "source": []
  },
  {
   "cell_type": "code",
   "execution_count": 3,
   "metadata": {},
   "outputs": [],
   "source": [
    "\n",
    "x=car_df.iloc[:,:-1]\n",
    "y=car_df.iloc[:,-1:]\n",
    "# print(x.head())\n",
    "# print(y.head())"
   ]
  },
  {
   "cell_type": "code",
   "execution_count": 4,
   "metadata": {},
   "outputs": [],
   "source": [
    "def calculate_entropy(df_label):\n",
    "    classes,class_counts = np.unique(df_label,return_counts = True)\n",
    "    entropy_value = np.sum([(-class_counts[i]/np.sum(class_counts))*np.log2(class_counts[i]/np.sum(class_counts)) \n",
    "                        for i in range(len(classes))])\n",
    "    return entropy_value"
   ]
  },
  {
   "cell_type": "code",
   "execution_count": 5,
   "metadata": {},
   "outputs": [],
   "source": [
    "def calculate_information_gain(dataset,feature,label): \n",
    "    \n",
    "    dataset_entropy = calculate_entropy(dataset[label])   \n",
    "    values,feat_counts= np.unique(dataset[feature],return_counts=True)\n",
    "    \n",
    "  \n",
    "    weighted_feature_entropy = np.sum([(feat_counts[i]/np.sum(feat_counts))*calculate_entropy(dataset.where(dataset[feature]\n",
    "                              ==values[i]).dropna()[label]) for i in range(len(values))])    \n",
    "    feature_info_gain = dataset_entropy - weighted_feature_entropy\n",
    "    return feature_info_gain"
   ]
  },
  {
   "cell_type": "code",
   "execution_count": 6,
   "metadata": {},
   "outputs": [],
   "source": [
    "def node():\n",
    "    def __init__(self,value):\n",
    "        self.value=value\n",
    "        self.children=[]\n"
   ]
  },
  {
   "cell_type": "code",
   "execution_count": null,
   "metadata": {},
   "outputs": [],
   "source": []
  },
  {
   "cell_type": "code",
   "execution_count": 7,
   "metadata": {},
   "outputs": [],
   "source": [
    "def create_decision_tree(dataset,df,features,label,parent):\n",
    "    datum = np.unique(df[label],return_counts=True)\n",
    "#     print(datum)\n",
    "    unique_data = np.unique(dataset[label])\n",
    "    if len(unique_data) <=1:\n",
    "        return unique_data[0]\n",
    "    elif len(dataset)==0:\n",
    "        return unique_data[np.argmax(datum[1])]\n",
    "    elif len(features)==0:\n",
    "        return parent\n",
    "    else:\n",
    "#         print(datum)\n",
    "#         print(unique_data)\n",
    "        parent = unique_data[np.argmax(np.unique(dataset[label],return_counts=True)[1])]\n",
    "        \n",
    "        item_values = [calculate_information_gain(dataset,feature,label) for feature in features]\n",
    "        optimum_feature = features[np.array(item_values).argmax()]\n",
    "        features = [i for i in features if i!=optimum_feature]\n",
    "        decision_tree = {optimum_feature:{}}\n",
    "        for value in np.unique(dataset[optimum_feature]):\n",
    "            min_data = dataset.where(dataset[optimum_feature]==value).dropna()\n",
    "            \n",
    "            min_tree = create_decision_tree(min_data,df,features,label,parent)\n",
    "            \n",
    "            decision_tree[optimum_feature][value] = min_tree\n",
    "        return (decision_tree)"
   ]
  },
  {
   "cell_type": "code",
   "execution_count": 47,
   "metadata": {},
   "outputs": [],
   "source": [
    "max_depth=4\n",
    "def create_decision_tree_pr(dataset,df,features,label,parent,depth):\n",
    "    datum = np.unique(df[label],return_counts=True)\n",
    "#     print(datum)\n",
    "    unique_data = np.unique(dataset[label])\n",
    "    if len(unique_data) <=1:\n",
    "        return unique_data[0]\n",
    "    elif len(dataset)==0:\n",
    "        return unique_data[np.argmax(datum[1])]\n",
    "    elif len(features)==0:\n",
    "        return parent\n",
    "    elif depth>=max_depth:\n",
    "        return parent\n",
    "    else:\n",
    "#         print(datum)\n",
    "#         print(unique_data)\n",
    "        parent = unique_data[np.argmax(np.unique(dataset[label],return_counts=True)[1])]\n",
    "        \n",
    "        item_values = [calculate_information_gain(dataset,feature,label) for feature in features]\n",
    "        optimum_feature = features[np.array(item_values).argmax()]\n",
    "        features = [i for i in features if i!=optimum_feature]\n",
    "        decision_tree = {optimum_feature:{}}\n",
    "        for value in np.unique(dataset[optimum_feature]):\n",
    "            min_data = dataset.where(dataset[optimum_feature]==value).dropna()\n",
    "            \n",
    "            min_tree = create_decision_tree_pr(min_data,df,features,label,parent,depth+1)\n",
    "            \n",
    "            decision_tree[optimum_feature][value] = min_tree\n",
    "        return (decision_tree)"
   ]
  },
  {
   "cell_type": "code",
   "execution_count": 48,
   "metadata": {},
   "outputs": [
    {
     "data": {
      "text/plain": [
       "Index(['buying price', 'maintenance cost', 'number of doors',\n",
       "       'number of persons', 'lug_boot', 'safety'],\n",
       "      dtype='object')"
      ]
     },
     "execution_count": 48,
     "metadata": {},
     "output_type": "execute_result"
    }
   ],
   "source": [
    "features = x.columns\n",
    "\n",
    "label = \"decision\"\n",
    "parent=None\n",
    "features"
   ]
  },
  {
   "cell_type": "code",
   "execution_count": 49,
   "metadata": {},
   "outputs": [
    {
     "data": {
      "text/plain": [
       "(array(['acc', 'good', 'unacc', 'vgood'], dtype=object),\n",
       " array([ 384,   69, 1210,   65], dtype=int64))"
      ]
     },
     "execution_count": 49,
     "metadata": {},
     "output_type": "execute_result"
    }
   ],
   "source": [
    "np.unique(car_df[label],return_counts=True)"
   ]
  },
  {
   "cell_type": "code",
   "execution_count": null,
   "metadata": {},
   "outputs": [],
   "source": []
  },
  {
   "cell_type": "code",
   "execution_count": 50,
   "metadata": {},
   "outputs": [],
   "source": [
    "def predict(test_data,decision_tree):\n",
    "#     print(decision_tree.keys())\n",
    "    for nodes in decision_tree.keys():\n",
    "        value=test_data[nodes]\n",
    "        \n",
    "        decision_tree = decision_tree[nodes][value]\n",
    "        prediction =0\n",
    "        if type(decision_tree) is dict:\n",
    "            prediction=predict(test_data,decision_tree)\n",
    "        else:\n",
    "            prediction=decision_tree\n",
    "            break;\n",
    "    return prediction"
   ]
  },
  {
   "cell_type": "code",
   "execution_count": null,
   "metadata": {},
   "outputs": [],
   "source": []
  },
  {
   "cell_type": "code",
   "execution_count": 51,
   "metadata": {},
   "outputs": [],
   "source": [
    "from sklearn.model_selection import train_test_split\n",
    "x_train,x_test,y_train,y_test=train_test_split(x, y,test_size=.10, train_size=.90,random_state=70)\n",
    "# decision_tree = create_decision_tree(car_df,car_df,features,label,parent)\n",
    "decision_tree = create_decision_tree_pr(car_df,car_df,features,label,parent,0)"
   ]
  },
  {
   "cell_type": "code",
   "execution_count": 52,
   "metadata": {},
   "outputs": [],
   "source": [
    "# decision_tree"
   ]
  },
  {
   "cell_type": "code",
   "execution_count": 53,
   "metadata": {},
   "outputs": [],
   "source": [
    "testing_data = x_test.to_dict('records')\n",
    "# for val in testing_data:\n",
    "#     predict(val,decision_tree)\n",
    "y_pred=[predict(val,decision_tree) for val in testing_data]\n",
    "\n",
    "\n"
   ]
  },
  {
   "cell_type": "code",
   "execution_count": 54,
   "metadata": {},
   "outputs": [
    {
     "name": "stdout",
     "output_type": "stream",
     "text": [
      "Accuracy: 0.8092485549132948\n"
     ]
    }
   ],
   "source": [
    "print(\"Accuracy:\",metrics.accuracy_score(y_test, y_pred))"
   ]
  },
  {
   "cell_type": "code",
   "execution_count": 41,
   "metadata": {},
   "outputs": [
    {
     "data": {
      "text/plain": [
       "{'buying price': 'vhigh',\n",
       " 'maintenance cost': 'med',\n",
       " 'number of doors': '2',\n",
       " 'number of persons': '2',\n",
       " 'lug_boot': 'med',\n",
       " 'safety': 'med'}"
      ]
     },
     "execution_count": 41,
     "metadata": {},
     "output_type": "execute_result"
    }
   ],
   "source": [
    "\n"
   ]
  },
  {
   "cell_type": "code",
   "execution_count": 42,
   "metadata": {},
   "outputs": [
    {
     "data": {
      "text/plain": [
       "{'safety': {'high': {'number of persons': {'2': 'unacc',\n",
       "    '4': {'buying price': {'high': 'acc',\n",
       "      'low': 'acc',\n",
       "      'med': 'acc',\n",
       "      'vhigh': 'acc'}},\n",
       "    'more': {'buying price': {'high': 'acc',\n",
       "      'low': 'acc',\n",
       "      'med': 'acc',\n",
       "      'vhigh': 'acc'}}}},\n",
       "  'low': 'unacc',\n",
       "  'med': {'number of persons': {'2': 'unacc',\n",
       "    '4': {'buying price': {'high': 'acc',\n",
       "      'low': 'acc',\n",
       "      'med': 'acc',\n",
       "      'vhigh': 'acc'}},\n",
       "    'more': {'buying price': {'high': 'acc',\n",
       "      'low': 'acc',\n",
       "      'med': 'acc',\n",
       "      'vhigh': 'acc'}}}}}}"
      ]
     },
     "execution_count": 42,
     "metadata": {},
     "output_type": "execute_result"
    }
   ],
   "source": [
    "decision_tree"
   ]
  },
  {
   "cell_type": "code",
   "execution_count": 55,
   "metadata": {},
   "outputs": [],
   "source": [
    "val = predict(al,decision_tree)"
   ]
  },
  {
   "cell_type": "code",
   "execution_count": 56,
   "metadata": {},
   "outputs": [
    {
     "data": {
      "text/plain": [
       "'unacc'"
      ]
     },
     "execution_count": 56,
     "metadata": {},
     "output_type": "execute_result"
    }
   ],
   "source": [
    "val"
   ]
  },
  {
   "cell_type": "code",
   "execution_count": null,
   "metadata": {},
   "outputs": [],
   "source": []
  },
  {
   "cell_type": "code",
   "execution_count": null,
   "metadata": {},
   "outputs": [],
   "source": []
  }
 ],
 "metadata": {
  "kernelspec": {
   "display_name": "Python 3",
   "language": "python",
   "name": "python3"
  },
  "language_info": {
   "codemirror_mode": {
    "name": "ipython",
    "version": 3
   },
   "file_extension": ".py",
   "mimetype": "text/x-python",
   "name": "python",
   "nbconvert_exporter": "python",
   "pygments_lexer": "ipython3",
   "version": "3.8.3-final"
  }
 },
 "nbformat": 4,
 "nbformat_minor": 4
}
